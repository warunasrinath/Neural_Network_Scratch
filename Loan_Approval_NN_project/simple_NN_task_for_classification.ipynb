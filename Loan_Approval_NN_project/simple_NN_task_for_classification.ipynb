{
 "cells": [
  {
   "cell_type": "code",
   "execution_count": 3,
   "metadata": {},
   "outputs": [
    {
     "ename": "ValueError",
     "evalue": "shapes (200,200) and (1,4) not aligned: 200 (dim 1) != 1 (dim 0)",
     "output_type": "error",
     "traceback": [
      "\u001b[1;31m---------------------------------------------------------------------------\u001b[0m",
      "\u001b[1;31mValueError\u001b[0m                                Traceback (most recent call last)",
      "\u001b[1;32mc:\\Users\\warun\\Documents\\GitHub\\Neural_Network_Scratch\\Loan_Approval_NN_project\\simple_NN_task_for_classification.ipynb Cell 1\u001b[0m line \u001b[0;36m4\n\u001b[0;32m     <a href='vscode-notebook-cell:/c%3A/Users/warun/Documents/GitHub/Neural_Network_Scratch/Loan_Approval_NN_project/simple_NN_task_for_classification.ipynb#W0sZmlsZQ%3D%3D?line=42'>43</a>\u001b[0m dloss \u001b[39m=\u001b[39m final_output \u001b[39m-\u001b[39m y\n\u001b[0;32m     <a href='vscode-notebook-cell:/c%3A/Users/warun/Documents/GitHub/Neural_Network_Scratch/Loan_Approval_NN_project/simple_NN_task_for_classification.ipynb#W0sZmlsZQ%3D%3D?line=43'>44</a>\u001b[0m dfinal_input \u001b[39m=\u001b[39m dloss \u001b[39m*\u001b[39m final_output \u001b[39m*\u001b[39m (\u001b[39m1\u001b[39m \u001b[39m-\u001b[39m final_output)\n\u001b[1;32m---> <a href='vscode-notebook-cell:/c%3A/Users/warun/Documents/GitHub/Neural_Network_Scratch/Loan_Approval_NN_project/simple_NN_task_for_classification.ipynb#W0sZmlsZQ%3D%3D?line=44'>45</a>\u001b[0m dhidden_output \u001b[39m=\u001b[39m np\u001b[39m.\u001b[39;49mdot(dfinal_input, weights_hidden_output\u001b[39m.\u001b[39;49mT)\n\u001b[0;32m     <a href='vscode-notebook-cell:/c%3A/Users/warun/Documents/GitHub/Neural_Network_Scratch/Loan_Approval_NN_project/simple_NN_task_for_classification.ipynb#W0sZmlsZQ%3D%3D?line=45'>46</a>\u001b[0m dhidden_input \u001b[39m=\u001b[39m dhidden_output \u001b[39m*\u001b[39m hidden_output \u001b[39m*\u001b[39m (\u001b[39m1\u001b[39m \u001b[39m-\u001b[39m hidden_output)\n\u001b[0;32m     <a href='vscode-notebook-cell:/c%3A/Users/warun/Documents/GitHub/Neural_Network_Scratch/Loan_Approval_NN_project/simple_NN_task_for_classification.ipynb#W0sZmlsZQ%3D%3D?line=47'>48</a>\u001b[0m \u001b[39m# Update weights and biases using gradients and learning rate\u001b[39;00m\n\u001b[0;32m     <a href='vscode-notebook-cell:/c%3A/Users/warun/Documents/GitHub/Neural_Network_Scratch/Loan_Approval_NN_project/simple_NN_task_for_classification.ipynb#W0sZmlsZQ%3D%3D?line=48'>49</a>\u001b[0m \u001b[39m# weights_hidden_output -= np.dot(hidden_output.T, dfinal_input) * learning_rate\u001b[39;00m\n",
      "\u001b[1;31mValueError\u001b[0m: shapes (200,200) and (1,4) not aligned: 200 (dim 1) != 1 (dim 0)"
     ]
    }
   ],
   "source": [
    "import numpy as np\n",
    "\n",
    "# Generate random data points for two classes\n",
    "np.random.seed(0)\n",
    "num_samples = 200\n",
    "X = np.random.randn(num_samples, 2)\n",
    "y = (X[:, 0] + X[:, 1] > 0).astype(int)  # Decision boundary: x + y = 0\n",
    "\n",
    "# Define the architecture of the neural network\n",
    "input_size = 2  # Number of input features\n",
    "hidden_size = 4  # Number of neurons in the hidden layer\n",
    "output_size = 1  # Number of output neurons (binary classification)\n",
    "\n",
    "# Initialize weights and biases\n",
    "weights_input_hidden = np.random.randn(input_size, hidden_size)\n",
    "bias_hidden = np.zeros((1, hidden_size))\n",
    "weights_hidden_output = np.random.randn(hidden_size, output_size)\n",
    "bias_output = np.zeros((1, output_size))\n",
    "\n",
    "# Set hyperparameters\n",
    "learning_rate = 0.01\n",
    "epochs = 10000\n",
    "\n",
    "# Define the sigmoid activation function and its derivative\n",
    "def sigmoid(x):\n",
    "    return 1 / (1 + np.exp(-x))\n",
    "\n",
    "def sigmoid_derivative(x):\n",
    "    return x * (1 - x)\n",
    "\n",
    "# Start the training loop\n",
    "for epoch in range(epochs):\n",
    "    # Forward pass\n",
    "    hidden_input = np.dot(X, weights_input_hidden) + bias_hidden\n",
    "    hidden_output = sigmoid(hidden_input)\n",
    "    final_input = np.dot(hidden_output, weights_hidden_output) + bias_output\n",
    "    final_output = sigmoid(final_input)\n",
    "    \n",
    "    # Compute loss (binary cross-entropy)\n",
    "    loss = -np.mean(y * np.log(final_output) + (1 - y) * np.log(1 - final_output))\n",
    "    \n",
    "    # Backpropagation\n",
    "    dloss = final_output - y\n",
    "    dfinal_input = dloss * final_output * (1 - final_output)\n",
    "    dhidden_output = np.dot(dfinal_input, weights_hidden_output.T)\n",
    "    dhidden_input = dhidden_output * hidden_output * (1 - hidden_output)\n",
    "    \n",
    "    # Update weights and biases using gradients and learning rate\n",
    "    weights_hidden_output -= np.dot(hidden_output.T, dfinal_input) * learning_rate\n",
    "    bias_output -= np.sum(dfinal_input, axis=0, keepdims=True) * learning_rate\n",
    "    weights_input_hidden -= np.dot(X.T, dhidden_input) * learning_rate\n",
    "    bias_hidden -= np.sum(dhidden_input, axis=0, keepdims=True) * learning_rate\n",
    "    \n",
    "    # Print loss for monitoring training progress\n",
    "    if epoch % 1000 == 0:\n",
    "        print(f\"Epoch {epoch}: Loss = {loss}\")\n",
    "\n",
    "# Test the trained model (you can use new data for testing)\n",
    "test_samples = np.array([[1.0, 1.0], [-1.0, -1.0]])\n",
    "test_hidden_input = np.dot(test_samples, weights_input_hidden) + bias_hidden\n",
    "test_hidden_output = sigmoid(test_hidden_input)\n",
    "test_final_input = np.dot(test_hidden_output, weights_hidden_output) + bias_output\n",
    "test_final_output = sigmoid(test_final_input)\n",
    "\n",
    "print(\"Predictions:\")\n",
    "print(test_final_output)\n"
   ]
  },
  {
   "cell_type": "code",
   "execution_count": null,
   "metadata": {},
   "outputs": [],
   "source": []
  }
 ],
 "metadata": {
  "kernelspec": {
   "display_name": "tensorflow",
   "language": "python",
   "name": "python3"
  },
  "language_info": {
   "codemirror_mode": {
    "name": "ipython",
    "version": 3
   },
   "file_extension": ".py",
   "mimetype": "text/x-python",
   "name": "python",
   "nbconvert_exporter": "python",
   "pygments_lexer": "ipython3",
   "version": "3.10.10"
  },
  "orig_nbformat": 4
 },
 "nbformat": 4,
 "nbformat_minor": 2
}
