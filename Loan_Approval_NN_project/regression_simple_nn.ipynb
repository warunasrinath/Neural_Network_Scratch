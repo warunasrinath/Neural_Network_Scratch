{
 "cells": [
  {
   "cell_type": "code",
   "execution_count": 1,
   "metadata": {},
   "outputs": [
    {
     "name": "stdout",
     "output_type": "stream",
     "text": [
      "Epoch 0: Loss = 9.411966351558593\n",
      "Epoch 100: Loss = 0.6835803681286429\n",
      "Epoch 200: Loss = 0.5834121812459633\n",
      "Epoch 300: Loss = 0.5325300122420955\n",
      "Epoch 400: Loss = 0.5066835314071129\n",
      "Epoch 500: Loss = 0.49355436288636145\n",
      "Epoch 600: Loss = 0.48688517387193364\n",
      "Epoch 700: Loss = 0.48349744356442265\n",
      "Epoch 800: Loss = 0.48177658715870403\n",
      "Epoch 900: Loss = 0.4809024482809613\n",
      "Prediction for X_new = 6: 5.833217532079192\n"
     ]
    }
   ],
   "source": [
    "import numpy as np\n",
    "\n",
    "# Define your independent variable (X) and dependent variable (y)\n",
    "X = np.array([1, 2, 3, 4, 5])  # Independent variable\n",
    "y = np.array([2, 4, 5, 4, 5])  # Dependent variable (target)\n",
    "\n",
    "# Initialize weights and bias\n",
    "weight = np.random.randn()\n",
    "bias = np.random.randn()\n",
    "\n",
    "# Set hyperparameters\n",
    "learning_rate = 0.01\n",
    "epochs = 1000\n",
    "\n",
    "# Start the training loop\n",
    "for epoch in range(epochs):\n",
    "    # Forward pass\n",
    "    predictions = X * weight + bias\n",
    "    \n",
    "    # Compute loss (mean squared error)\n",
    "    loss = np.mean((predictions - y) ** 2)\n",
    "    \n",
    "    # Backpropagation\n",
    "    dloss = 2 * (predictions - y)\n",
    "    dweight = np.mean(X * dloss)\n",
    "    dbias = np.mean(dloss)\n",
    "    \n",
    "    # Update weights and bias using gradients and learning rate\n",
    "    weight -= learning_rate * dweight\n",
    "    bias -= learning_rate * dbias\n",
    "    \n",
    "    # Print loss for monitoring training progress\n",
    "    if epoch % 100 == 0:\n",
    "        print(f\"Epoch {epoch}: Loss = {loss}\")\n",
    "\n",
    "# After training, you can use the trained linear regression model for predictions\n",
    "# Assuming you have a new data point in X_new\n",
    "X_new = 6\n",
    "prediction = X_new * weight + bias\n",
    "print(f\"Prediction for X_new = {X_new}: {prediction}\")\n"
   ]
  },
  {
   "cell_type": "code",
   "execution_count": 3,
   "metadata": {},
   "outputs": [
    {
     "name": "stdout",
     "output_type": "stream",
     "text": [
      "Prediction for X_new = 100: 63.53985460703436\n"
     ]
    }
   ],
   "source": [
    "X_new = 100\n",
    "prediction = X_new * weight + bias\n",
    "print(f\"Prediction for X_new = {X_new}: {prediction}\")"
   ]
  },
  {
   "cell_type": "code",
   "execution_count": null,
   "metadata": {},
   "outputs": [],
   "source": []
  }
 ],
 "metadata": {
  "kernelspec": {
   "display_name": "tensorflow",
   "language": "python",
   "name": "python3"
  },
  "language_info": {
   "codemirror_mode": {
    "name": "ipython",
    "version": 3
   },
   "file_extension": ".py",
   "mimetype": "text/x-python",
   "name": "python",
   "nbconvert_exporter": "python",
   "pygments_lexer": "ipython3",
   "version": "3.10.10"
  },
  "orig_nbformat": 4
 },
 "nbformat": 4,
 "nbformat_minor": 2
}
